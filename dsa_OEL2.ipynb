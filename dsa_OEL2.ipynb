{
 "cells": [
  {
   "cell_type": "code",
   "execution_count": null,
   "id": "641466b5-16fa-41be-85fb-94f792376a26",
   "metadata": {},
   "outputs": [],
   "source": [
    "def palindrome(s):\n",
    "    # a dictionary to store the count of char \n",
    "    char_count = {} \n",
    "\n",
    "    # for each character, increase the value of char in char_count by 1\n",
    "    for char in s:\n",
    "        char_count[char] = char_count.get(char, 0) + 1\n",
    "\n",
    "    # variable to store the length of palindrome\n",
    "    len_of_palindrome = 0\n",
    "    odd = False\n",
    "\n",
    "    # add the count of palindrom to the len_of_palindrome variable\n",
    "    for count in char_count.values():\n",
    "        len_of_palindrome += count // 2 * 2\n",
    "        # calculate if the len of palindrom is odd\n",
    "        if count % 2 == 1:\n",
    "            odd = True\n",
    "    # if the len of palindrom is odd number, add one character to the length\n",
    "    if odd:\n",
    "        len_of_palindrome += 1\n",
    "    return len_of_palindrome\n",
    "\n",
    "s = \"abccccdd\"\n",
    "print(\"Length of longest palindrom:\", palindrome(s))\n",
    "\n",
    "s = \"Aa\"\n",
    "print(palindrome(s)"
   ]
  }
 ],
 "metadata": {
  "kernelspec": {
   "display_name": "Python 3 (ipykernel)",
   "language": "python",
   "name": "python3"
  },
  "language_info": {
   "codemirror_mode": {
    "name": "ipython",
    "version": 3
   },
   "file_extension": ".py",
   "mimetype": "text/x-python",
   "name": "python",
   "nbconvert_exporter": "python",
   "pygments_lexer": "ipython3",
   "version": "3.12.7"
  }
 },
 "nbformat": 4,
 "nbformat_minor": 5
}
